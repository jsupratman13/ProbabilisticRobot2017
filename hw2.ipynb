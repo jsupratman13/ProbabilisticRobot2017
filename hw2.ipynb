{
 "cells": [
  {
   "cell_type": "markdown",
   "metadata": {},
   "source": [
    "# 課題2\n",
    "千葉工業大学工学部未来ロボティクス学科 1426071 スプラトマン ジョシュア"
   ]
  },
  {
   "cell_type": "markdown",
   "metadata": {},
   "source": [
    "pygameを使用してリアルタイムにFastSLAMを実行する"
   ]
  },
  {
   "cell_type": "markdown",
   "metadata": {},
   "source": [
    "## パッケージのインポート"
   ]
  },
  {
   "cell_type": "code",
   "execution_count": 1,
   "metadata": {
    "collapsed": true
   },
   "outputs": [],
   "source": [
    "import numpy as np\n",
    "import pygame\n",
    "from pygame.math import Vector2\n",
    "import sys,time,copy\n",
    "import random, math"
   ]
  },
  {
   "cell_type": "markdown",
   "metadata": {},
   "source": [
    "## 世界を定義する\n",
    "* ランドマークはランダムの位置\n",
    "* エージェントに対してランドマークのローカル座標を返す\n",
    "* ランドマークを表示する"
   ]
  },
  {
   "cell_type": "code",
   "execution_count": 3,
   "metadata": {
    "collapsed": true
   },
   "outputs": [],
   "source": [
    "class WorldMap(object):\n",
    "    def __init__(self):\n",
    "        self.BLACK = (0,0,0)\n",
    "        self.WHITE = (255,255,255)\n",
    "        self.GREEN = (0,255,0)\n",
    "        self.RED = (255,0,0)\n",
    "        self.BLUE = (0,0,255)\n",
    "        self.PURPLE = (255,0,255)\n",
    "        self.YELLOW = (255,255,0,)\n",
    "\n",
    "        self.MARGIN = 5\n",
    "        self.HEIGHT = 350\n",
    "        self.WIDTH = self.HEIGHT\n",
    "        self.WINDOW_SIZE = []\n",
    "        \n",
    "        self.landmarks = []\n",
    "        for i in range(3):\n",
    "            x, y = random.randint(self.MARGIN+5, self.WIDTH/2-self.MARGIN-5),random.randint(self.MARGIN+5, self.HEIGHT-self.MARGIN-5)\n",
    "            self.landmarks.append([x,y])\n",
    "\n",
    "        self.WORLD = pygame.Rect([self.MARGIN, self.MARGIN, self.HEIGHT-self.MARGIN, self.WIDTH-self.MARGIN])\n",
    "    \n",
    "    def get_landmarks(self,pose):\n",
    "        positions = []\n",
    "        x,y,th = pose\n",
    "        for i,landmark in enumerate(self.landmarks):\n",
    "            lx,ly = landmark[0],landmark[1]\n",
    "            distance = math.sqrt((x-lx)**2 + (y-ly)**2)\n",
    "            direction = math.atan2(ly-y, lx-x) - th\n",
    "            positions.append([distance,direction,lx,ly,i])\n",
    "        return positions\n",
    "\n",
    "    def draw(self):\n",
    "        for l in self.landmarks:\n",
    "            pygame.draw.circle(screen, self.GREEN, (l[0],l[1]),5)\n",
    "\n",
    "    def fit_window_to_grid(self):\n",
    "        WIDTH = self.WIDTH\n",
    "        HEIGHT = self.HEIGHT\n",
    "        self.WINDOW_SIZE = [WIDTH, HEIGHT]\n",
    "        return self.WINDOW_SIZE\n"
   ]
  },
  {
   "cell_type": "markdown",
   "metadata": {},
   "source": [
    "## エージェントを定義する\n",
    "* エージェントの行動（制御出力）と観察（センサ入力）を定義する\n",
    "   * エージェントの行動は速度と回転\n",
    "   * エージェントの観察はランドマークの距離と相対角度\n",
    "* エージェントが見る範囲を制限する"
   ]
  },
  {
   "cell_type": "code",
   "execution_count": 4,
   "metadata": {
    "collapsed": true
   },
   "outputs": [],
   "source": [
    "class PacMan(object):\n",
    "    def __init__(self, pose, WORLD_SIZE=350, WIDTH=350):\n",
    "        self.pose = pose\n",
    "        self.movement_noise = [0.1, math.pi/180.0*3.0] #translate noise\n",
    "        self.rotation_noise = 0.1\n",
    "        self.sense_noise = [0.1, 5.0/180*math.pi] #distance, direction sense noise\n",
    "    \n",
    "    def estimated_motion(self, pos, move, rotate):\n",
    "        move = random.gauss(move, move*self.movement_noise[0])\n",
    "        dir_error = random.gauss(0.0, self.movement_noise[1])\n",
    "        px,py,pt = pos\n",
    "        x = px + move * math.cos(pt+dir_error)\n",
    "        y = py + move * math.sin(pt+dir_error)\n",
    "        th = pt + dir_error + random.gauss(rotate, rotate*self.rotation_noise)\n",
    "        th = clamp_rad(th) \n",
    "        return [x, y, th]\n",
    "\n",
    "    def estimated_observation(self, m):\n",
    "        measurements = m.get_landmarks(self.pose)\n",
    "        observations = []\n",
    "        for m in measurements:\n",
    "            distance, direction, lx, ly, i = m\n",
    "            if math.cos(direction) < 0.0: continue\n",
    "            measured_distance = random.gauss(distance, distance*self.sense_noise[0])\n",
    "            measured_direction = random.gauss(direction, self.sense_noise[1])\n",
    "            observations.append([measured_distance, measured_direction, lx, ly, i])\n",
    "            pygame.draw.line(screen, RED, (lx,ly), (self.pose[0], self.pose[1]))\n",
    "        return observations"
   ]
  },
  {
   "cell_type": "markdown",
   "metadata": {},
   "source": [
    "## ランドマークの推定結果の入れ物\n",
    "* ランドマークの位置\n",
    "* 共分散行列"
   ]
  },
  {
   "cell_type": "code",
   "execution_count": 5,
   "metadata": {
    "collapsed": true
   },
   "outputs": [],
   "source": [
    "class LandmarkEstimation():\n",
    "    def __init__(self):\n",
    "        self.pos = np.array([[0.0],[0.0]])\n",
    "        self.cov = np.array([[1000000000.0**2, 0.0],[0.0,1000000000.0**2]])"
   ]
  },
  {
   "cell_type": "markdown",
   "metadata": {},
   "source": [
    "## パーティクルの定義\n",
    "* 重みと位置とマップの情報を持つ\n",
    "  * マップはランドマークの推定結果\n",
    "* パーティクルのmotion updateの定義\n",
    "* パーティクルのmeasurement updateの定義\n",
    "  * 重みの計算はMCLと同じ\n",
    "  * マップの更新は以下の式通り：\n",
    "    * $\\Sigma_{i}\\leftarrow (\\Sigma_{i}^{-1}+Q_{i}^{-1})^{-1}$\n",
    "    * $K \\leftarrow \\Sigma_{i} Q_{i}^{-1}$\n",
    "    * $m_{i} \\leftarrow (1-K)m_{i}+Kz$\n",
    "* ランドマークの推定位置の表示\n",
    "* パーティクルの推定位置の表示"
   ]
  },
  {
   "cell_type": "code",
   "execution_count": 6,
   "metadata": {
    "collapsed": true
   },
   "outputs": [],
   "source": [
    "class Particle(object):\n",
    "    def __init__(self, pose, w):\n",
    "        self.w = w\n",
    "        self.pose = pose\n",
    "        self.map = [LandmarkEstimation(), LandmarkEstimation(), LandmarkEstimation()]\n",
    "\n",
    "    def motion_update(self, move, rotate, agent):\n",
    "        self.pose = agent.estimated_motion(self.pose, move, rotate)\n",
    "\n",
    "    def measurement_update(self, measurement):\n",
    "        x,y,th = self.pose\n",
    "        distance, direction ,lx, ly, i = measurement\n",
    "        ln = self.map[i]\n",
    "        lx = x + distance*math.cos(th+direction)\n",
    "        ly = y + distance*math.sin(th+direction)\n",
    "\n",
    "        delta = np.array([[x],[y]])-np.array([[lx],[ly]])\n",
    "        coef = 2 * math.pi * math.sqrt(np.linalg.det(ln.cov))\n",
    "        inexp = -0.5 * (delta.T.dot(np.linalg.inv(ln.cov))).dot(delta)\n",
    "        self.w *= 1.0/coef*math.exp(inexp)\n",
    "        \n",
    "        z = np.array([[lx],[ly]])\n",
    "        c = math.cos(th+direction)\n",
    "        s = math.sin(th+direction)\n",
    "        rot = np.array([[c,s],[-s,c]])\n",
    "\n",
    "        err_agent = np.array([[(distance*0.1)**2,0.0],[0.0,(distance*math.sin(5.0/180.*math.pi))**2]])\n",
    "        err_world = (rot).dot(err_agent).dot((rot.T))\n",
    "\n",
    "        ln.cov = np.linalg.inv(np.linalg.inv(ln.cov)+np.linalg.inv(err_world))\n",
    "        K = (ln.cov).dot(np.linalg.inv(err_world))\n",
    "        ln.pos += K.dot(z-ln.pos)\n",
    "\n",
    "    def draw_landmark(self, i):\n",
    "        WIDTH = 350*4\n",
    "        HEIGHT = 350*4\n",
    "        for e in self.map:\n",
    "            eigen_vals, eig_vec = np.linalg.eig(e.cov)\n",
    "            v1 = eigen_vals[0] * eig_vec[:,0]\n",
    "            v2 = eigen_vals[1] * eig_vec[:,1]\n",
    "            v1_direction = math.atan2(v1[1], v1[0])\n",
    "            x,y = e.pos\n",
    "            width = max(20, min(WIDTH,10*math.sqrt(np.linalg.norm(v1))))\n",
    "            height = max(20, min(HEIGHT, 10*math.sqrt(np.linalg.norm(v2))))\n",
    "            ellip = pygame.Rect(0,0,width,height)\n",
    "            ellip.centerx,ellip.centery = x, y\n",
    "            pygame.draw.ellipse(screen, BLUE, ellip)\n",
    "\n",
    "    def draw_pos(self):\n",
    "        pygame.draw.circle(screen,(255,0,255) , (int(self.pose[0]),int(self.pose[1])), 3)"
   ]
  },
  {
   "cell_type": "markdown",
   "metadata": {},
   "source": [
    "## FastSLAMクラスの定義\n",
    "* パーティクルの群を定義\n",
    "* 結果を表示\n",
    "* 各パーティクルのmotion updateとmeasurement updateを行う\n",
    "* リサンプリング\n",
    "  * 前回の課題と同じくルーレット式のサンプリングをする\n",
    "![](resample.jpg)"
   ]
  },
  {
   "cell_type": "code",
   "execution_count": 9,
   "metadata": {
    "collapsed": true
   },
   "outputs": [],
   "source": [
    "class FastSLAM(object):\n",
    "    def __init__(self, pose, particle_num=100):\n",
    "        self.N = particle_num\n",
    "        self.particles = [Particle(pose,1.0/self.N) for i in range(self.N)]\n",
    "    \n",
    "    def draw(self):\n",
    "        for (i,p) in enumerate(self.particles):\n",
    "            #p.draw_pos()\n",
    "            p.draw_landmark(i)\n",
    "            if i > 3: return\n",
    "    \n",
    "    def motion_update(self, move, rotate, agent):\n",
    "        for p in self.particles:\n",
    "            p.motion_update(move, rotate, agent)\n",
    "    \n",
    "    def measurement_update(self, measurement):\n",
    "        for p in self.particles:\n",
    "            p.measurement_update(measurement)\n",
    "        self.resampling()\n",
    "\n",
    "    def resampling(self):\n",
    "        ws = [e.w+1e-100 for e in self.particles]\n",
    "        sample = []\n",
    "        pointer = 0.0\n",
    "        index = int(random.random()*self.N)\n",
    "        max_w = max(ws)\n",
    "        for i in range(self.N):\n",
    "            pointer += random.uniform(0, 2*max_w)\n",
    "            while ws[index] < pointer:\n",
    "                pointer -= ws[index]\n",
    "                index = (index+1)%self.N\n",
    "            self.particles[index].weight = 1.0/self.N\n",
    "            sample.append(copy.deepcopy(self.particles[index]))\n",
    "        self.particles = sample\n"
   ]
  },
  {
   "cell_type": "markdown",
   "metadata": {},
   "source": [
    "## 角度を押さえる関数\n",
    "* 角度を$[0,2\\pi]$範囲にする"
   ]
  },
  {
   "cell_type": "code",
   "execution_count": 7,
   "metadata": {
    "collapsed": true
   },
   "outputs": [],
   "source": [
    "def clamp_rad(th):\n",
    "    return th%(2*math.pi)"
   ]
  },
  {
   "cell_type": "markdown",
   "metadata": {},
   "source": [
    "## FastSLAMの実行\n",
    "* pygameの初期化\n",
    "* 画像の初期化\n",
    "* エージェントとFastSLAMの初期化\n",
    "  * エージェントはランダムの位置から始まるが向きは0にする\n",
    "* while文ループに\n",
    "  * キーボード入力を受け取る\n",
    "  * エージェントの位置を更新する\n",
    "  * エージェントが移動した時に\n",
    "    * パーティクルのmotion updateを行う\n",
    "    * エージェントの位置を定義してランドマークを観察する\n",
    "    * 観察結果に対しパーティクルのmeasurement updateを行う\n",
    "  * 推定結果とランドマークとエージェントを表示する\n",
    "  "
   ]
  },
  {
   "cell_type": "code",
   "execution_count": 10,
   "metadata": {},
   "outputs": [
    {
     "ename": "SystemExit",
     "evalue": "",
     "output_type": "error",
     "traceback": [
      "An exception has occurred, use %tb to see the full traceback.\n",
      "\u001b[0;31mSystemExit\u001b[0m\n"
     ]
    },
    {
     "name": "stderr",
     "output_type": "stream",
     "text": [
      "/home/jsupratman13/anaconda3/lib/python3.6/site-packages/IPython/core/interactiveshell.py:2870: UserWarning: To exit: use 'exit', 'quit', or Ctrl-D.\n",
      "  warn(\"To exit: use 'exit', 'quit', or Ctrl-D.\", stacklevel=1)\n"
     ]
    }
   ],
   "source": [
    "if __name__ == '__main__':\n",
    "    #initialize world\n",
    "    world = WorldMap()\n",
    "    \n",
    "    BLACK = world.BLACK\n",
    "    WIDTH = world.WIDTH\n",
    "    HEIGHT = world.HEIGHT\n",
    "    MARGIN = world.MARGIN\n",
    "    RED = world.RED\n",
    "    BLUE = world.BLUE\n",
    "    \n",
    "    pygame.init()\n",
    "    \n",
    "    WINDOW_SIZE = world.fit_window_to_grid()\n",
    "    screen = pygame.display.set_mode(WINDOW_SIZE)\n",
    "    pygame.display.set_caption(\"wandering pacman\")\n",
    "    clock = pygame.time.Clock()\n",
    "\n",
    "    #initialize images and place image at random location\n",
    "    im_org = pygame.image.load('pacman.png').convert_alpha()\n",
    "    im_org = pygame.transform.scale(im_org, (50,50))\n",
    "    im = im_org.copy()\n",
    "    rect = im_org.get_rect()\n",
    "    init_x = random.randint(MARGIN+rect.width, WIDTH-(MARGIN+rect.width))\n",
    "    init_y = random.randint(MARGIN+rect.height, HEIGHT-(MARGIN+rect.height))\n",
    "    rect.center = (init_x,init_y)\n",
    "    \n",
    "    #initialize agent and slam\n",
    "    pacman = PacMan([init_x,init_y, 0])\n",
    "    slam = FastSLAM(pacman.pose)\n",
    "    angle = 0\n",
    "    direction = Vector2(1,0)\n",
    "    pos = Vector2(rect.center)\n",
    "    speed = 0\n",
    "    angle_speed = 0\n",
    "\n",
    "    while True:\n",
    "        #display event\n",
    "        pygame.display.update()\n",
    "        clock.tick(60)\n",
    "        screen.fill(BLACK)\n",
    "        for event in pygame.event.get():\n",
    "            if event.type == pygame.QUIT:\n",
    "                pygame.quit()\n",
    "                sys.exit()\n",
    "            if event.type == pygame.KEYDOWN:\n",
    "                update_flag = True\n",
    "                if event.key == pygame.K_ESCAPE:\n",
    "                    pygame.quit()\n",
    "                    sys.exit()\n",
    "\n",
    "        #key event\n",
    "        pressed_key = pygame.key.get_pressed()\n",
    "        angle_speed = 0\n",
    "        speed = 0\n",
    "        if pressed_key[pygame.K_LEFT]: \n",
    "            angle_speed = -4.0\n",
    "        if pressed_key[pygame.K_RIGHT]:\n",
    "            angle_speed = 4.0\n",
    "        if pressed_key[pygame.K_UP]: \n",
    "            speed = 2.0\n",
    "        if pressed_key[pygame.K_DOWN]:\n",
    "            speed = -2.0\n",
    "\n",
    "        #update pacman position\n",
    "        if angle_speed != 0:\n",
    "            direction.rotate_ip(angle_speed)\n",
    "            angle += angle_speed\n",
    "            im = pygame.transform.rotate(im_org, -angle)\n",
    "            rect = im.get_rect(center=rect.center)\n",
    "        pos += direction * speed\n",
    "        rect.center = pos\n",
    "\n",
    "        #fast slam\n",
    "        if speed != 0 or angle_speed != 0:\n",
    "            slam.motion_update(speed, math.radians(angle_speed), pacman)\n",
    "            pacman.pose = [rect.centerx, rect.centery, clamp_rad(math.radians(angle))]\n",
    "            observations = pacman.estimated_observation(world)\n",
    "            for m in observations:\n",
    "                slam.measurement_update(m)\n",
    "        \n",
    "        #draw\n",
    "        slam.draw()\n",
    "        world.draw()\n",
    "        screen.blit(im,rect)"
   ]
  },
  {
   "cell_type": "markdown",
   "metadata": {},
   "source": [
    "## 結果\n",
    "Jupyter Notebookで正しくを表示が出来ないため以下のコマンドを端末で書く\n",
    "```\n",
    "python hw2.py\n",
    "```\n",
    "エージェントに行動ノイズがない場合：\n",
    "![](without_motion_noise.gif)\n",
    "エージェントにノイズがある場合：\n",
    "![](with_noise.gif)"
   ]
  },
  {
   "cell_type": "code",
   "execution_count": null,
   "metadata": {
    "collapsed": true
   },
   "outputs": [],
   "source": []
  }
 ],
 "metadata": {
  "kernelspec": {
   "display_name": "Python 3",
   "language": "python",
   "name": "python3"
  },
  "language_info": {
   "codemirror_mode": {
    "name": "ipython",
    "version": 3
   },
   "file_extension": ".py",
   "mimetype": "text/x-python",
   "name": "python",
   "nbconvert_exporter": "python",
   "pygments_lexer": "ipython3",
   "version": "3.6.3"
  }
 },
 "nbformat": 4,
 "nbformat_minor": 2
}
